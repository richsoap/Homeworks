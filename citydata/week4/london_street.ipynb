{
 "cells": [
  {
   "cell_type": "code",
   "execution_count": null,
   "metadata": {},
   "outputs": [],
   "source": []
  },
  {
   "cell_type": "code",
   "execution_count": 8,
   "metadata": {},
   "outputs": [],
   "source": [
    "import matplotlib.pyplot as plt\n",
    "import pandas as pd\n",
    "import numpy as np\n",
    "import math\n",
    "import cv2\n",
    "\n",
    "class CountPainter:\n",
    "    xstart = 0\n",
    "    xend = 0\n",
    "    xdelta = 0\n",
    "    xnum = 0\n",
    "    ystart = 0\n",
    "    yend = 0\n",
    "    ydelta = 0\n",
    "    ynum = 0\n",
    "    record = [[]]\n",
    "    coldcolor = 0\n",
    "    hotcolor = 0\n",
    "    bgcolor = 0\n",
    "    piexlsize = 0\n",
    "    errors = 0\n",
    "    count = 0\n",
    "    norfunc = 0\n",
    "    \n",
    "    def __init__(self, xdata, ydata, delta, coldcolor = [255, 0, 0, 255], hotcolor = [0, 255, 0, 255], bgcolor = [255,255,255,255], piexlsize = 10, norfunc = lambda x,y:abs(x)/y):\n",
    "        self.xstart = xdata[0]\n",
    "        self.xend = xdata[1]\n",
    "        self.xdelta = delta\n",
    "        self.xnum = math.ceil((self.xend - self.xstart) / delta)\n",
    "        self.ystart = ydata[0]\n",
    "        self.yend = ydata[1]\n",
    "        self.ydelta = delta\n",
    "        self.ynum = math.ceil((self.yend - self.ystart) / delta)\n",
    "        self.coldcolor = np.array(coldcolor)\n",
    "        self.hotcolor = np.array(hotcolor)\n",
    "        self.piexlsize = piexlsize\n",
    "        self.record = np.zeros((self.xnum, self.ynum), dtype=np.int)\n",
    "        self.errors = 0\n",
    "        self.count = 0\n",
    "        self.norfunc = norfunc\n",
    "        self.bgcolor = np.array(bgcolor)\n",
    "        \n",
    "    def add(self, x, y, v):\n",
    "        self.count += 1\n",
    "        if x < self.xstart or x >= self.xend or y < self.ystart or y >= self.yend:\n",
    "            self.errors += 1\n",
    "            return\n",
    "        self.record[math.floor((x-self.xstart)/self.xdelta)][math.floor((y-self.ystart)/self.ydelta)] += v\n",
    "    \n",
    "    def report(self):\n",
    "        return (self.errors, self.count)\n",
    "    \n",
    "    def paint(self):\n",
    "        img = np.zeros((self.ynum * self.piexlsize, self.xnum*self.piexlsize, 4), np.uint8)\n",
    "        maxval = 1\n",
    "        for i in range(len(self.record)):\n",
    "            if maxval < max(np.abs(self.record[i])):\n",
    "                maxval = max(np.abs(self.record[i]))\n",
    "        for i in range(self.xnum):\n",
    "            for j in range(self.ynum):\n",
    "                val = self.record[i][j]\n",
    "                if val != 0:\n",
    "                    color = self.getColor(self.norfunc(val, maxval), val > 0)\n",
    "                else:\n",
    "                    color = (0, 0, 0, 0)\n",
    "                cv2.rectangle(img, (i * self.piexlsize, j * self.piexlsize), ((i+1) * self.piexlsize, (j+1) * self.piexlsize), color, -1)\n",
    "        return img\n",
    "    \n",
    "    def getColor(self, val, isHot):\n",
    "        if isHot:\n",
    "            return ((self.hotcolor - self.bgcolor)*val+self.bgcolor).astype(np.int32).tolist()\n",
    "        else:\n",
    "            return ((self.coldcolor - self.bgcolor)*val+self.bgcolor).astype(np.int32).tolist()"
   ]
  },
  {
   "cell_type": "code",
   "execution_count": 9,
   "metadata": {},
   "outputs": [],
   "source": [
    "def loadcsv(path):\n",
    "    rawdata = pd.read_csv(path)\n",
    "    print(\"loadcsv: {} {} lines\".format(path, len(rawdata)))\n",
    "    return rawdata.dropna(subset = ['Latitude', 'Longitude'])"
   ]
  },
  {
   "cell_type": "code",
   "execution_count": 10,
   "metadata": {},
   "outputs": [],
   "source": [
    "squarefun = lambda x,y:(pow(y,2)-pow((x-y),2))/pow(y,2)\n",
    "linefunc = lambda x,y: (1-0.2)/y*abs(x)+0.2\n",
    "linefunc1 = lambda x,y: (1-0.1)/y*abs(x)+0.1\n",
    "linezerofunc = lambda x,y: abs(x)/y\n",
    "norfunc = linezerofunc\n",
    "#lineigfunc = lambda x,y: (1-0.2)/y*abs(x)+0.2 if (1-0.2)/y*abs(x)+0.2 > 0.2 else 0\n",
    "xrange = [-0.6, 0.3]\n",
    "yrange = [51.25, 51.70]\n",
    "gridsize = 0.01\n",
    "pxsize = 10\n",
    "summercolor = [0,0,255,255]\n",
    "wintercolor = [255,0,0,255]"
   ]
  },
  {
   "cell_type": "code",
   "execution_count": 11,
   "metadata": {},
   "outputs": [
    {
     "name": "stdout",
     "output_type": "stream",
     "text": [
      "loadcsv: ./data/2018-12-metropolitan-street.csv 87317 lines\n",
      "loadcsv: ./data/2019-01-metropolitan-street.csv 88671 lines\n",
      "loadcsv: ./data/2019-02-metropolitan-street.csv 86620 lines\n"
     ]
    },
    {
     "data": {
      "text/plain": [
       "<matplotlib.image.AxesImage at 0x7ffb90e01fd0>"
      ]
     },
     "execution_count": 11,
     "metadata": {},
     "output_type": "execute_result"
    },
    {
     "data": {
      "image/png": "[encoded data removed]",
      "text/plain": [
       "<Figure size 432x288 with 1 Axes>"
      ]
     },
     "metadata": {
      "needs_background": "light"
     },
     "output_type": "display_data"
    }
   ],
   "source": [
    "winterpainter = CountPainter(xrange, yrange, gridsize,piexlsize=pxsize, coldcolor=wintercolor, norfunc=norfunc)\n",
    "diffpainter = CountPainter(xrange, yrange, gridsize,piexlsize=pxsize, coldcolor=wintercolor, hotcolor=summercolor, norfunc=norfunc)\n",
    "summerpainter = CountPainter(xrange, yrange, gridsize,piexlsize=pxsize, hotcolor=summercolor, norfunc=norfunc)\n",
    "\n",
    "pathlist = ['2018-12-metropolitan-street.csv', '2019-01-metropolitan-street.csv', '2019-02-metropolitan-street.csv']\n",
    "rootdir= './data/'\n",
    "\n",
    "for path in pathlist:\n",
    "    winterdata = loadcsv(rootdir + path)\n",
    "    for index, row in winterdata.iterrows():\n",
    "        winterpainter.add(row[\"Longitude\"], row[\"Latitude\"], -1)\n",
    "        diffpainter.add(row[\"Longitude\"], row[\"Latitude\"], -1)\n",
    "winterimg = winterpainter.paint()\n",
    "plt.imshow(winterimg)"
   ]
  },
  {
   "cell_type": "code",
   "execution_count": 12,
   "metadata": {},
   "outputs": [
    {
     "name": "stdout",
     "output_type": "stream",
     "text": [
      "loadcsv: ./data/2019-06-metropolitan-street.csv 95942 lines\n",
      "loadcsv: ./data/2019-07-metropolitan-street.csv 99329 lines\n",
      "loadcsv: ./data/2019-08-metropolitan-street.csv 91534 lines\n"
     ]
    },
    {
     "data": {
      "text/plain": [
       "<matplotlib.image.AxesImage at 0x7ffb905bce10>"
      ]
     },
     "execution_count": 12,
     "metadata": {},
     "output_type": "execute_result"
    },
    {
     "data": {
      "image/png": "[encoded data removed]",
      "text/plain": [
       "<Figure size 432x288 with 1 Axes>"
      ]
     },
     "metadata": {
      "needs_background": "light"
     },
     "output_type": "display_data"
    }
   ],
   "source": [
    "pathlist = ['2019-06-metropolitan-street.csv', '2019-07-metropolitan-street.csv', '2019-08-metropolitan-street.csv']\n",
    "for path in pathlist:\n",
    "    summerdata = loadcsv(rootdir + path)\n",
    "    for index, row in summerdata.iterrows():\n",
    "        summerpainter.add(row[\"Longitude\"], row[\"Latitude\"], 1)\n",
    "        diffpainter.add(row[\"Longitude\"], row[\"Latitude\"], 1)\n",
    "summerimg = summerpainter.paint()\n",
    "plt.imshow(summerimg)"
   ]
  },
  {
   "cell_type": "code",
   "execution_count": 13,
   "metadata": {},
   "outputs": [
    {
     "data": {
      "text/plain": [
       "<matplotlib.image.AxesImage at 0x7ffb8fbd59e8>"
      ]
     },
     "execution_count": 13,
     "metadata": {},
     "output_type": "execute_result"
    },
    {
     "data": {
      "image/png": "[encoded data removed]",
      "text/plain": [
       "<Figure size 432x288 with 1 Axes>"
      ]
     },
     "metadata": {
      "needs_background": "light"
     },
     "output_type": "display_data"
    }
   ],
   "source": [
    "diffimg = diffpainter.paint()\n",
    "plt.imshow(diffimg)"
   ]
  },
  {
   "cell_type": "code",
   "execution_count": 14,
   "metadata": {},
   "outputs": [
    {
     "data": {
      "text/plain": [
       "True"
      ]
     },
     "execution_count": 14,
     "metadata": {},
     "output_type": "execute_result"
    }
   ],
   "source": [
    "cv2.imwrite(\"./imgs/london_street_all_winter.png\", winterimg)\n",
    "cv2.imwrite(\"./imgs/london_street_all_summer.png\", summerimg)\n",
    "cv2.imwrite(\"./imgs/london_street_all_diff.png\", diffimg)"
   ]
  }
 ],
 "metadata": {
  "kernelspec": {
   "display_name": "Python 3",
   "language": "python",
   "name": "python3"
  },
  "language_info": {
   "codemirror_mode": {
    "name": "ipython",
    "version": 3
   },
   "file_extension": ".py",
   "mimetype": "text/x-python",
   "name": "python",
   "nbconvert_exporter": "python",
   "pygments_lexer": "ipython3",
   "version": "3.6.9"
  }
 },
 "nbformat": 4,
 "nbformat_minor": 4
}
